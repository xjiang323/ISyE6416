{
 "cells": [
  {
   "cell_type": "code",
   "execution_count": 4,
   "metadata": {},
   "outputs": [
    {
     "name": "stdout",
     "output_type": "stream",
     "text": [
      "Short Sale:\n",
      "Coefficients:  [[-1.42702820e+00 -1.01666785e+04  1.74747302e+04  1.90715333e+02\n",
      "   1.21130796e+03 -6.60254234e+03 -6.45605207e+04  6.66851547e+05\n",
      "  -6.30285310e+04 -1.44454582e+05 -5.49446230e+04 -1.55715483e+05\n",
      "   4.34650686e+05 -6.98660100e+04 -5.81231323e+04 -4.06012888e+04\n",
      "   0.00000000e+00 -6.68177538e+04 -8.15541036e+04 -5.16445752e+04\n",
      "  -1.67850673e+04  5.82076609e-11 -4.40521139e+04 -3.00365265e+04\n",
      "  -6.47652052e+04 -6.62685130e+04 -2.79659007e+04 -6.11380000e+04\n",
      "  -8.25262789e+04  1.78555691e+05 -2.61517520e+04 -2.45542187e+03]]\n",
      "Score:  0.8977705335657828\n",
      "Intercept:  [35056.12222836]\n",
      "Mean Square Error:  6854244978.048077\n",
      "Foreclosure:\n",
      "Coefficients:  [[-1.88759658e+00 -2.66905987e+03  1.73549652e+04  2.01361382e+02\n",
      "   1.57499913e+03  3.98868061e+03  9.06781089e+03 -1.67748517e+05\n",
      "   9.72743527e+01 -1.01295457e+04 -7.83851027e+03 -1.33182654e+04\n",
      "   1.01863407e-10  1.45519152e-11  5.10537577e+04  1.90086038e+04\n",
      "   4.44283378e+03 -1.76815512e+04  2.63815661e+04  7.18395273e+03\n",
      "   3.50407032e+03 -1.84681281e+04 -4.98075165e+03 -4.48245856e+04\n",
      "   7.20533285e+03 -1.17442376e+04  1.11045533e+05  1.35564581e+04\n",
      "   6.33458291e+04 -3.43371558e+04 -2.45993908e+04  3.57889358e+04]]\n",
      "Score:  0.9796589196803521\n",
      "Intercept:  [-52123.83216057]\n",
      "Mean Square Error:  14558790650.363636\n"
     ]
    },
    {
     "data": {
      "image/png": "[encoded data removed]",
      "text/plain": [
       "<Figure size 432x288 with 1 Axes>"
      ]
     },
     "metadata": {
      "needs_background": "light"
     },
     "output_type": "display_data"
    },
    {
     "name": "stdout",
     "output_type": "stream",
     "text": [
      "Regular:\n",
      "Coefficients:  [[ 4.59394094e+02 -4.52228251e+04  1.38745856e+04  4.77690035e+02\n",
      "   2.91366642e+03  1.06772128e+05  7.04610420e+04 -2.38298493e+05\n",
      "  -1.68516281e+05 -2.23569769e+05  5.05094008e+04 -8.43224354e+04\n",
      "   5.47414380e+05  1.05295692e+05 -3.77939949e+04  2.51963081e+05\n",
      "  -1.41718072e+06 -1.88560941e+05  1.30405108e+05 -6.71818285e+04\n",
      "  -5.39962514e+04 -7.10632418e+04  2.04186853e+05  3.12843745e+05\n",
      "   1.45519152e-11  3.57729371e+05  4.12903160e+05]]\n",
      "Score:  0.919034127048096\n",
      "Intercept:  [-72086162.63737118]\n",
      "Mean Square Error:  64911744264.61905\n"
     ]
    }
   ],
   "source": [
    "import matplotlib.pyplot as plt\n",
    "import numpy as np\n",
    "import pandas as pd\n",
    "from sklearn.linear_model import LinearRegression\n",
    "from sklearn.model_selection import train_test_split\n",
    "from sklearn.metrics import mean_squared_error\n",
    "from sklearn import preprocessing\n",
    "\n",
    "data = pd.read_csv('RealEstate.csv')\n",
    "\n",
    "data1 = data.loc[data['Status'] == 'Short Sale',:]\n",
    "data1 = data1.loc[:, data1.columns != 'Status']\n",
    "data1 = pd.get_dummies(data1)\n",
    "\n",
    "data2 = data.loc[data['Status'] == 'Foreclosure',:]\n",
    "data2 = data2.loc[:, data2.columns != 'Status']\n",
    "data2 = pd.get_dummies(data2)\n",
    "\n",
    "data3 = data.loc[data['Status'] == 'Regular',:]\n",
    "data3 = data3.loc[:,data3.columns != 'Status']\n",
    "data3 = pd.get_dummies(data3)\n",
    "\n",
    "x_data1 = data1.loc[:, data1.columns != 'Price' ]\n",
    "y_data1 = data1.loc[:, data1.columns == 'Price']\n",
    "x_train1, x_test1, y_train1, y_test1 = train_test_split(x_data1, y_data1, test_size = 0.2, random_state = 100, shuffle = True)\n",
    "\n",
    "x_data2 = data2.loc[:, data2.columns != 'Price' ]\n",
    "y_data2 = data2.loc[:, data2.columns == 'Price']\n",
    "x_train2, x_test2, y_train2, y_test2 = train_test_split(x_data2, y_data2, test_size = 0.2, random_state = 100, shuffle = True)\n",
    "\n",
    "x_data3 = data3.loc[:, data3.columns != 'Price' ]\n",
    "y_data3 = data3.loc[:, data3.columns == 'Price']\n",
    "x_train3, x_test3, y_train3, y_test3 = train_test_split(x_data3, y_data3, test_size = 0.2, random_state = 100, shuffle = True)\n",
    "\n",
    "reg = LinearRegression()\n",
    "reg.fit(x_train1, y_train1)\n",
    "y_test_predict1 = reg.predict(x_test1).round()\n",
    "plt.scatter(y_test1, y_test_predict1, c = 'green')\n",
    "print(\"Short Sale:\")\n",
    "print(\"Coefficients: \" , reg.coef_)\n",
    "print(\"Score: \", reg.score(x_train1, y_train1))\n",
    "print(\"Intercept: \", reg.intercept_)\n",
    "print(\"Mean Square Error: \", mean_squared_error(y_test1, y_test_predict1))\n",
    "\n",
    "reg.fit(x_train2, y_train2)\n",
    "y_test_predict2 = reg.predict(x_test2).round()\n",
    "plt.scatter(y_test2, y_test_predict2, c = 'red')\n",
    "print(\"Foreclosure:\")\n",
    "print(\"Coefficients: \" , reg.coef_)\n",
    "print(\"Score: \", reg.score(x_train2, y_train2))\n",
    "print(\"Intercept: \", reg.intercept_)\n",
    "print(\"Mean Square Error: \", mean_squared_error(y_test2, y_test_predict2))\n",
    "\n",
    "reg.fit(x_train3, y_train3)\n",
    "y_test_predict3 = reg.predict(x_test3).round()\n",
    "plt.scatter(y_test3, y_test_predict3, c = 'blue')\n",
    "plt.show()\n",
    "print(\"Regular:\")\n",
    "print(\"Coefficients: \" , reg.coef_)\n",
    "print(\"Score: \", reg.score(x_train3, y_train3))\n",
    "print(\"Intercept: \", reg.intercept_)\n",
    "print(\"Mean Square Error: \", mean_squared_error(y_test3, y_test_predict3))\n"
   ]
  },
  {
   "cell_type": "code",
   "execution_count": null,
   "metadata": {},
   "outputs": [],
   "source": []
  },
  {
   "cell_type": "code",
   "execution_count": null,
   "metadata": {},
   "outputs": [],
   "source": []
  }
 ],
 "metadata": {
  "kernelspec": {
   "display_name": "Python 3",
   "language": "python",
   "name": "python3"
  },
  "language_info": {
   "codemirror_mode": {
    "name": "ipython",
    "version": 3
   },
   "file_extension": ".py",
   "mimetype": "text/x-python",
   "name": "python",
   "nbconvert_exporter": "python",
   "pygments_lexer": "ipython3",
   "version": "3.7.2"
  }
 },
 "nbformat": 4,
 "nbformat_minor": 2
}
