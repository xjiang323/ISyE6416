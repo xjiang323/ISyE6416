{
 "cells": [
  {
   "cell_type": "code",
   "execution_count": 5,
   "metadata": {},
   "outputs": [
    {
     "name": "stderr",
     "output_type": "stream",
     "text": [
      "/usr/local/lib/python3.7/site-packages/sklearn/mixture/base.py:273: ConvergenceWarning: Initialization 1 did not converge. Try different init parameters, or increase max_iter, tol or check for degenerate data.\n",
      "  % (init + 1), ConvergenceWarning)\n",
      "/usr/local/lib/python3.7/site-packages/sklearn/mixture/base.py:273: ConvergenceWarning: Initialization 1 did not converge. Try different init parameters, or increase max_iter, tol or check for degenerate data.\n",
      "  % (init + 1), ConvergenceWarning)\n",
      "/usr/local/lib/python3.7/site-packages/sklearn/mixture/base.py:273: ConvergenceWarning: Initialization 1 did not converge. Try different init parameters, or increase max_iter, tol or check for degenerate data.\n",
      "  % (init + 1), ConvergenceWarning)\n"
     ]
    },
    {
     "name": "stdout",
     "output_type": "stream",
     "text": [
      "[0.47480188 0.52519812]\n",
      "[[ 2.14782118 -0.62828512]\n",
      " [-1.94172349  0.567997  ]]\n",
      "[[[1.90809534 1.48099522]\n",
      "  [1.48099522 2.90085775]]\n",
      "\n",
      " [[1.84384582 0.98396518]\n",
      "  [0.98396518 4.54511247]]]\n"
     ]
    },
    {
     "data": {
      "image/png": "[encoded data removed]",
      "text/plain": [
       "<Figure size 432x288 with 1 Axes>"
      ]
     },
     "metadata": {
      "needs_background": "light"
     },
     "output_type": "display_data"
    }
   ],
   "source": [
    "import numpy as np\n",
    "import matplotlib.pyplot as plt\n",
    "from sklearn import mixture, decomposition\n",
    "from scipy.stats import multivariate_normal\n",
    "\n",
    "np.random.seed(3)\n",
    "# prepare data\n",
    "mnist = np.loadtxt(\"data.dat\")\n",
    "    \n",
    "label = np.loadtxt(\"label.dat\")\n",
    "\n",
    "\n",
    "# reducel feature dimension\n",
    "pca=decomposition.PCA(n_components=2)\n",
    "new_mnist=pca.fit_transform(mnist.T)\n",
    "\n",
    "# def loglikelihoog \n",
    "def loglikelihoog(x,pi,mu,sigma):\n",
    "    n=x.shape[0]\n",
    "    c=len(pi)\n",
    "    l=0\n",
    "    for i in range(n):\n",
    "        for j in range(c):\n",
    "            p=multivariate_normal(mean=mu[j],cov=sigma[j])\n",
    "            l=l+pi[j]*p.pdf(x[i,:])\n",
    "    return np.log(l)\n",
    "\n",
    "# train model and get log likelihood\n",
    "def model(x,training_times=20):\n",
    "    log=[]\n",
    "    for i in range(1,training_times):\n",
    "        clf=mixture.GaussianMixture(n_components=2,covariance_type=\"full\",max_iter=i)\n",
    "        model=clf.fit(new_mnist)\n",
    "        pi=model.weights_\n",
    "        mu=model.means_\n",
    "        sigma=model.covariances_\n",
    "        nlog=loglikelihoog(x,pi,mu,sigma)\n",
    "        log.append(nlog)\n",
    "    plt.plot(log)\n",
    "    plt.title(\"log likelihood\")\n",
    "    plt.xlabel(\"iteration number\")\n",
    "    return pi,mu,sigma\n",
    "\n",
    "# classify mnist\n",
    "def classify(x,pi,mu,sigma):\n",
    "    n=x.shape[0]\n",
    "    c=len(pi)\n",
    "    cla=[]\n",
    "    for i in range(n):\n",
    "        p=[]\n",
    "        for j in range(c):\n",
    "            pr=pi[j]*multivariate_normal.pdf(x[i,:],mean=mu[j],cov=sigma[j])\n",
    "            p.append(pr)\n",
    "        index=p.index(max(p))\n",
    "        cla.append(index)\n",
    "    return cla\n",
    "\n",
    "                \n",
    "pi,mu,sigma=model(new_mnist)\n",
    "print(pi)\n",
    "print(mu)\n",
    "print(sigma)"
   ]
  },
  {
   "cell_type": "code",
   "execution_count": null,
   "metadata": {},
   "outputs": [],
   "source": []
  }
 ],
 "metadata": {
  "kernelspec": {
   "display_name": "Python 3",
   "language": "python",
   "name": "python3"
  },
  "language_info": {
   "codemirror_mode": {
    "name": "ipython",
    "version": 3
   },
   "file_extension": ".py",
   "mimetype": "text/x-python",
   "name": "python",
   "nbconvert_exporter": "python",
   "pygments_lexer": "ipython3",
   "version": "3.7.2"
  }
 },
 "nbformat": 4,
 "nbformat_minor": 2
}
