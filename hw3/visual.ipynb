{
 "cells": [
  {
   "cell_type": "code",
   "execution_count": 30,
   "metadata": {},
   "outputs": [
    {
     "data": {
      "image/png": "[encoded data removed]",
      "text/plain": [
       "<Figure size 432x288 with 1 Axes>"
      ]
     },
     "metadata": {
      "needs_background": "light"
     },
     "output_type": "display_data"
    },
    {
     "data": {
      "image/png": "[encoded data removed]",
      "text/plain": [
       "<Figure size 432x288 with 1 Axes>"
      ]
     },
     "metadata": {
      "needs_background": "light"
     },
     "output_type": "display_data"
    }
   ],
   "source": [
    "import numpy as np\n",
    "import matplotlib.pyplot as plt\n",
    "idx = np.loadtxt(\"label.dat\")\n",
    "for i in range(len(data)):\n",
    "    if idx[i] == 2.0:\n",
    "        idx1 = i\n",
    "    if idx[i] == 6.0:\n",
    "        idx2 = i\n",
    "data = np.loadtxt(\"data.dat\")\n",
    "image_2 = data[:, idx1]\n",
    "image_6 = data[:, idx2]\n",
    "image_2 = image_2.reshape((28,28)).transpose()\n",
    "image_6 = image_6.reshape((28,28)).transpose()\n",
    "plt.imshow(image_2)\n",
    "plt.show()\n",
    "plt.imshow(image_6)\n",
    "plt.show()"
   ]
  },
  {
   "cell_type": "code",
   "execution_count": null,
   "metadata": {},
   "outputs": [],
   "source": []
  }
 ],
 "metadata": {
  "kernelspec": {
   "display_name": "Python 3",
   "language": "python",
   "name": "python3"
  },
  "language_info": {
   "codemirror_mode": {
    "name": "ipython",
    "version": 3
   },
   "file_extension": ".py",
   "mimetype": "text/x-python",
   "name": "python",
   "nbconvert_exporter": "python",
   "pygments_lexer": "ipython3",
   "version": "3.7.2"
  }
 },
 "nbformat": 4,
 "nbformat_minor": 2
}
